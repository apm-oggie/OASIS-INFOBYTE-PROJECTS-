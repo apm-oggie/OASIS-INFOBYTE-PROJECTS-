{
 "cells": [
  {
   "cell_type": "markdown",
   "id": "b4e71c28",
   "metadata": {
    "papermill": {
     "duration": 0.010347,
     "end_time": "2024-07-24T19:03:58.732485",
     "exception": false,
     "start_time": "2024-07-24T19:03:58.722138",
     "status": "completed"
    },
    "tags": []
   },
   "source": [
    "# Import Libraries"
   ]
  },
  {
   "cell_type": "code",
   "execution_count": 1,
   "id": "c42da784",
   "metadata": {
    "execution": {
     "iopub.execute_input": "2024-07-24T19:03:58.753882Z",
     "iopub.status.busy": "2024-07-24T19:03:58.753202Z",
     "iopub.status.idle": "2024-07-24T19:04:04.443061Z",
     "shell.execute_reply": "2024-07-24T19:04:04.442302Z"
    },
    "papermill": {
     "duration": 5.703253,
     "end_time": "2024-07-24T19:04:04.445571",
     "exception": false,
     "start_time": "2024-07-24T19:03:58.742318",
     "status": "completed"
    },
    "tags": []
   },
   "outputs": [],
   "source": [
    "import torch\n",
    "import torch.nn as nn\n",
    "import torch.nn.functional as f\n",
    "\n",
    "import pandas as pd\n",
    "from sklearn.preprocessing import LabelEncoder\n",
    "from sklearn.model_selection import train_test_split\n",
    "import matplotlib.pyplot as plt\n",
    "%matplotlib inline"
   ]
  },
  {
   "cell_type": "code",
   "execution_count": 2,
   "id": "268d8f0e",
   "metadata": {
    "execution": {
     "iopub.execute_input": "2024-07-24T19:04:04.466621Z",
     "iopub.status.busy": "2024-07-24T19:04:04.466123Z",
     "iopub.status.idle": "2024-07-24T19:04:05.522310Z",
     "shell.execute_reply": "2024-07-24T19:04:05.521107Z"
    },
    "papermill": {
     "duration": 1.069685,
     "end_time": "2024-07-24T19:04:05.524723",
     "exception": false,
     "start_time": "2024-07-24T19:04:04.455038",
     "status": "completed"
    },
    "tags": []
   },
   "outputs": [
    {
     "name": "stdout",
     "output_type": "stream",
     "text": [
      "Wed Jul 24 19:04:05 2024       \r\n",
      "+-----------------------------------------------------------------------------------------+\r\n",
      "| NVIDIA-SMI 550.90.07              Driver Version: 550.90.07      CUDA Version: 12.4     |\r\n",
      "|-----------------------------------------+------------------------+----------------------+\r\n",
      "| GPU  Name                 Persistence-M | Bus-Id          Disp.A | Volatile Uncorr. ECC |\r\n",
      "| Fan  Temp   Perf          Pwr:Usage/Cap |           Memory-Usage | GPU-Util  Compute M. |\r\n",
      "|                                         |                        |               MIG M. |\r\n",
      "|=========================================+========================+======================|\r\n",
      "|   0  Tesla P100-PCIE-16GB           Off |   00000000:00:04.0 Off |                    0 |\r\n",
      "| N/A   34C    P0             26W /  250W |       0MiB /  16384MiB |      0%      Default |\r\n",
      "|                                         |                        |                  N/A |\r\n",
      "+-----------------------------------------+------------------------+----------------------+\r\n",
      "                                                                                         \r\n",
      "+-----------------------------------------------------------------------------------------+\r\n",
      "| Processes:                                                                              |\r\n",
      "|  GPU   GI   CI        PID   Type   Process name                              GPU Memory |\r\n",
      "|        ID   ID                                                               Usage      |\r\n",
      "|=========================================================================================|\r\n",
      "|  No running processes found                                                             |\r\n",
      "+-----------------------------------------------------------------------------------------+\r\n"
     ]
    }
   ],
   "source": [
    "!nvidia-smi"
   ]
  },
  {
   "cell_type": "code",
   "execution_count": 3,
   "id": "fb14080f",
   "metadata": {
    "execution": {
     "iopub.execute_input": "2024-07-24T19:04:05.545070Z",
     "iopub.status.busy": "2024-07-24T19:04:05.544729Z",
     "iopub.status.idle": "2024-07-24T19:04:05.555491Z",
     "shell.execute_reply": "2024-07-24T19:04:05.554597Z"
    },
    "papermill": {
     "duration": 0.023069,
     "end_time": "2024-07-24T19:04:05.557429",
     "exception": false,
     "start_time": "2024-07-24T19:04:05.534360",
     "status": "completed"
    },
    "tags": []
   },
   "outputs": [
    {
     "data": {
      "text/plain": [
       "<torch._C.Generator at 0x78239bcef330>"
      ]
     },
     "execution_count": 3,
     "metadata": {},
     "output_type": "execute_result"
    }
   ],
   "source": [
    "torch.manual_seed(23)"
   ]
  },
  {
   "cell_type": "markdown",
   "id": "ddeb8a96",
   "metadata": {
    "papermill": {
     "duration": 0.009025,
     "end_time": "2024-07-24T19:04:05.575893",
     "exception": false,
     "start_time": "2024-07-24T19:04:05.566868",
     "status": "completed"
    },
    "tags": []
   },
   "source": [
    "# Loading the Data"
   ]
  },
  {
   "cell_type": "code",
   "execution_count": 4,
   "id": "c5b756a1",
   "metadata": {
    "execution": {
     "iopub.execute_input": "2024-07-24T19:04:05.595491Z",
     "iopub.status.busy": "2024-07-24T19:04:05.595194Z",
     "iopub.status.idle": "2024-07-24T19:04:05.644308Z",
     "shell.execute_reply": "2024-07-24T19:04:05.643469Z"
    },
    "papermill": {
     "duration": 0.061321,
     "end_time": "2024-07-24T19:04:05.646468",
     "exception": false,
     "start_time": "2024-07-24T19:04:05.585147",
     "status": "completed"
    },
    "tags": []
   },
   "outputs": [
    {
     "data": {
      "text/html": [
       "<div>\n",
       "<style scoped>\n",
       "    .dataframe tbody tr th:only-of-type {\n",
       "        vertical-align: middle;\n",
       "    }\n",
       "\n",
       "    .dataframe tbody tr th {\n",
       "        vertical-align: top;\n",
       "    }\n",
       "\n",
       "    .dataframe thead th {\n",
       "        text-align: right;\n",
       "    }\n",
       "</style>\n",
       "<table border=\"1\" class=\"dataframe\">\n",
       "  <thead>\n",
       "    <tr style=\"text-align: right;\">\n",
       "      <th></th>\n",
       "      <th>Id</th>\n",
       "      <th>SepalLengthCm</th>\n",
       "      <th>SepalWidthCm</th>\n",
       "      <th>PetalLengthCm</th>\n",
       "      <th>PetalWidthCm</th>\n",
       "      <th>Species</th>\n",
       "    </tr>\n",
       "  </thead>\n",
       "  <tbody>\n",
       "    <tr>\n",
       "      <th>0</th>\n",
       "      <td>1</td>\n",
       "      <td>5.1</td>\n",
       "      <td>3.5</td>\n",
       "      <td>1.4</td>\n",
       "      <td>0.2</td>\n",
       "      <td>Iris-setosa</td>\n",
       "    </tr>\n",
       "    <tr>\n",
       "      <th>1</th>\n",
       "      <td>2</td>\n",
       "      <td>4.9</td>\n",
       "      <td>3.0</td>\n",
       "      <td>1.4</td>\n",
       "      <td>0.2</td>\n",
       "      <td>Iris-setosa</td>\n",
       "    </tr>\n",
       "    <tr>\n",
       "      <th>2</th>\n",
       "      <td>3</td>\n",
       "      <td>4.7</td>\n",
       "      <td>3.2</td>\n",
       "      <td>1.3</td>\n",
       "      <td>0.2</td>\n",
       "      <td>Iris-setosa</td>\n",
       "    </tr>\n",
       "    <tr>\n",
       "      <th>3</th>\n",
       "      <td>4</td>\n",
       "      <td>4.6</td>\n",
       "      <td>3.1</td>\n",
       "      <td>1.5</td>\n",
       "      <td>0.2</td>\n",
       "      <td>Iris-setosa</td>\n",
       "    </tr>\n",
       "    <tr>\n",
       "      <th>4</th>\n",
       "      <td>5</td>\n",
       "      <td>5.0</td>\n",
       "      <td>3.6</td>\n",
       "      <td>1.4</td>\n",
       "      <td>0.2</td>\n",
       "      <td>Iris-setosa</td>\n",
       "    </tr>\n",
       "    <tr>\n",
       "      <th>...</th>\n",
       "      <td>...</td>\n",
       "      <td>...</td>\n",
       "      <td>...</td>\n",
       "      <td>...</td>\n",
       "      <td>...</td>\n",
       "      <td>...</td>\n",
       "    </tr>\n",
       "    <tr>\n",
       "      <th>145</th>\n",
       "      <td>146</td>\n",
       "      <td>6.7</td>\n",
       "      <td>3.0</td>\n",
       "      <td>5.2</td>\n",
       "      <td>2.3</td>\n",
       "      <td>Iris-virginica</td>\n",
       "    </tr>\n",
       "    <tr>\n",
       "      <th>146</th>\n",
       "      <td>147</td>\n",
       "      <td>6.3</td>\n",
       "      <td>2.5</td>\n",
       "      <td>5.0</td>\n",
       "      <td>1.9</td>\n",
       "      <td>Iris-virginica</td>\n",
       "    </tr>\n",
       "    <tr>\n",
       "      <th>147</th>\n",
       "      <td>148</td>\n",
       "      <td>6.5</td>\n",
       "      <td>3.0</td>\n",
       "      <td>5.2</td>\n",
       "      <td>2.0</td>\n",
       "      <td>Iris-virginica</td>\n",
       "    </tr>\n",
       "    <tr>\n",
       "      <th>148</th>\n",
       "      <td>149</td>\n",
       "      <td>6.2</td>\n",
       "      <td>3.4</td>\n",
       "      <td>5.4</td>\n",
       "      <td>2.3</td>\n",
       "      <td>Iris-virginica</td>\n",
       "    </tr>\n",
       "    <tr>\n",
       "      <th>149</th>\n",
       "      <td>150</td>\n",
       "      <td>5.9</td>\n",
       "      <td>3.0</td>\n",
       "      <td>5.1</td>\n",
       "      <td>1.8</td>\n",
       "      <td>Iris-virginica</td>\n",
       "    </tr>\n",
       "  </tbody>\n",
       "</table>\n",
       "<p>150 rows × 6 columns</p>\n",
       "</div>"
      ],
      "text/plain": [
       "      Id  SepalLengthCm  SepalWidthCm  PetalLengthCm  PetalWidthCm  \\\n",
       "0      1            5.1           3.5            1.4           0.2   \n",
       "1      2            4.9           3.0            1.4           0.2   \n",
       "2      3            4.7           3.2            1.3           0.2   \n",
       "3      4            4.6           3.1            1.5           0.2   \n",
       "4      5            5.0           3.6            1.4           0.2   \n",
       "..   ...            ...           ...            ...           ...   \n",
       "145  146            6.7           3.0            5.2           2.3   \n",
       "146  147            6.3           2.5            5.0           1.9   \n",
       "147  148            6.5           3.0            5.2           2.0   \n",
       "148  149            6.2           3.4            5.4           2.3   \n",
       "149  150            5.9           3.0            5.1           1.8   \n",
       "\n",
       "            Species  \n",
       "0       Iris-setosa  \n",
       "1       Iris-setosa  \n",
       "2       Iris-setosa  \n",
       "3       Iris-setosa  \n",
       "4       Iris-setosa  \n",
       "..              ...  \n",
       "145  Iris-virginica  \n",
       "146  Iris-virginica  \n",
       "147  Iris-virginica  \n",
       "148  Iris-virginica  \n",
       "149  Iris-virginica  \n",
       "\n",
       "[150 rows x 6 columns]"
      ]
     },
     "execution_count": 4,
     "metadata": {},
     "output_type": "execute_result"
    }
   ],
   "source": [
    "df = pd.read_csv(r\"/kaggle/input/iriscsv/Iris.csv\")\n",
    "df"
   ]
  },
  {
   "cell_type": "markdown",
   "id": "19982e4b",
   "metadata": {
    "papermill": {
     "duration": 0.009544,
     "end_time": "2024-07-24T19:04:05.667076",
     "exception": false,
     "start_time": "2024-07-24T19:04:05.657532",
     "status": "completed"
    },
    "tags": []
   },
   "source": [
    "## Label Encoding the categorical classes"
   ]
  },
  {
   "cell_type": "code",
   "execution_count": 5,
   "id": "52fc3dbb",
   "metadata": {
    "execution": {
     "iopub.execute_input": "2024-07-24T19:04:05.687927Z",
     "iopub.status.busy": "2024-07-24T19:04:05.687586Z",
     "iopub.status.idle": "2024-07-24T19:04:05.692971Z",
     "shell.execute_reply": "2024-07-24T19:04:05.692079Z"
    },
    "papermill": {
     "duration": 0.017997,
     "end_time": "2024-07-24T19:04:05.694807",
     "exception": false,
     "start_time": "2024-07-24T19:04:05.676810",
     "status": "completed"
    },
    "tags": []
   },
   "outputs": [],
   "source": [
    "le = LabelEncoder()\n",
    "df['Species'] = le.fit_transform(df['Species'])"
   ]
  },
  {
   "cell_type": "code",
   "execution_count": 6,
   "id": "5a3c841a",
   "metadata": {
    "execution": {
     "iopub.execute_input": "2024-07-24T19:04:05.715815Z",
     "iopub.status.busy": "2024-07-24T19:04:05.715072Z",
     "iopub.status.idle": "2024-07-24T19:04:05.730375Z",
     "shell.execute_reply": "2024-07-24T19:04:05.729545Z"
    },
    "papermill": {
     "duration": 0.027667,
     "end_time": "2024-07-24T19:04:05.732263",
     "exception": false,
     "start_time": "2024-07-24T19:04:05.704596",
     "status": "completed"
    },
    "scrolled": true,
    "tags": []
   },
   "outputs": [
    {
     "data": {
      "text/html": [
       "<div>\n",
       "<style scoped>\n",
       "    .dataframe tbody tr th:only-of-type {\n",
       "        vertical-align: middle;\n",
       "    }\n",
       "\n",
       "    .dataframe tbody tr th {\n",
       "        vertical-align: top;\n",
       "    }\n",
       "\n",
       "    .dataframe thead th {\n",
       "        text-align: right;\n",
       "    }\n",
       "</style>\n",
       "<table border=\"1\" class=\"dataframe\">\n",
       "  <thead>\n",
       "    <tr style=\"text-align: right;\">\n",
       "      <th></th>\n",
       "      <th>Id</th>\n",
       "      <th>SepalLengthCm</th>\n",
       "      <th>SepalWidthCm</th>\n",
       "      <th>PetalLengthCm</th>\n",
       "      <th>PetalWidthCm</th>\n",
       "      <th>Species</th>\n",
       "    </tr>\n",
       "  </thead>\n",
       "  <tbody>\n",
       "    <tr>\n",
       "      <th>0</th>\n",
       "      <td>1</td>\n",
       "      <td>5.1</td>\n",
       "      <td>3.5</td>\n",
       "      <td>1.4</td>\n",
       "      <td>0.2</td>\n",
       "      <td>0</td>\n",
       "    </tr>\n",
       "    <tr>\n",
       "      <th>1</th>\n",
       "      <td>2</td>\n",
       "      <td>4.9</td>\n",
       "      <td>3.0</td>\n",
       "      <td>1.4</td>\n",
       "      <td>0.2</td>\n",
       "      <td>0</td>\n",
       "    </tr>\n",
       "    <tr>\n",
       "      <th>2</th>\n",
       "      <td>3</td>\n",
       "      <td>4.7</td>\n",
       "      <td>3.2</td>\n",
       "      <td>1.3</td>\n",
       "      <td>0.2</td>\n",
       "      <td>0</td>\n",
       "    </tr>\n",
       "    <tr>\n",
       "      <th>3</th>\n",
       "      <td>4</td>\n",
       "      <td>4.6</td>\n",
       "      <td>3.1</td>\n",
       "      <td>1.5</td>\n",
       "      <td>0.2</td>\n",
       "      <td>0</td>\n",
       "    </tr>\n",
       "    <tr>\n",
       "      <th>4</th>\n",
       "      <td>5</td>\n",
       "      <td>5.0</td>\n",
       "      <td>3.6</td>\n",
       "      <td>1.4</td>\n",
       "      <td>0.2</td>\n",
       "      <td>0</td>\n",
       "    </tr>\n",
       "    <tr>\n",
       "      <th>...</th>\n",
       "      <td>...</td>\n",
       "      <td>...</td>\n",
       "      <td>...</td>\n",
       "      <td>...</td>\n",
       "      <td>...</td>\n",
       "      <td>...</td>\n",
       "    </tr>\n",
       "    <tr>\n",
       "      <th>145</th>\n",
       "      <td>146</td>\n",
       "      <td>6.7</td>\n",
       "      <td>3.0</td>\n",
       "      <td>5.2</td>\n",
       "      <td>2.3</td>\n",
       "      <td>2</td>\n",
       "    </tr>\n",
       "    <tr>\n",
       "      <th>146</th>\n",
       "      <td>147</td>\n",
       "      <td>6.3</td>\n",
       "      <td>2.5</td>\n",
       "      <td>5.0</td>\n",
       "      <td>1.9</td>\n",
       "      <td>2</td>\n",
       "    </tr>\n",
       "    <tr>\n",
       "      <th>147</th>\n",
       "      <td>148</td>\n",
       "      <td>6.5</td>\n",
       "      <td>3.0</td>\n",
       "      <td>5.2</td>\n",
       "      <td>2.0</td>\n",
       "      <td>2</td>\n",
       "    </tr>\n",
       "    <tr>\n",
       "      <th>148</th>\n",
       "      <td>149</td>\n",
       "      <td>6.2</td>\n",
       "      <td>3.4</td>\n",
       "      <td>5.4</td>\n",
       "      <td>2.3</td>\n",
       "      <td>2</td>\n",
       "    </tr>\n",
       "    <tr>\n",
       "      <th>149</th>\n",
       "      <td>150</td>\n",
       "      <td>5.9</td>\n",
       "      <td>3.0</td>\n",
       "      <td>5.1</td>\n",
       "      <td>1.8</td>\n",
       "      <td>2</td>\n",
       "    </tr>\n",
       "  </tbody>\n",
       "</table>\n",
       "<p>150 rows × 6 columns</p>\n",
       "</div>"
      ],
      "text/plain": [
       "      Id  SepalLengthCm  SepalWidthCm  PetalLengthCm  PetalWidthCm  Species\n",
       "0      1            5.1           3.5            1.4           0.2        0\n",
       "1      2            4.9           3.0            1.4           0.2        0\n",
       "2      3            4.7           3.2            1.3           0.2        0\n",
       "3      4            4.6           3.1            1.5           0.2        0\n",
       "4      5            5.0           3.6            1.4           0.2        0\n",
       "..   ...            ...           ...            ...           ...      ...\n",
       "145  146            6.7           3.0            5.2           2.3        2\n",
       "146  147            6.3           2.5            5.0           1.9        2\n",
       "147  148            6.5           3.0            5.2           2.0        2\n",
       "148  149            6.2           3.4            5.4           2.3        2\n",
       "149  150            5.9           3.0            5.1           1.8        2\n",
       "\n",
       "[150 rows x 6 columns]"
      ]
     },
     "execution_count": 6,
     "metadata": {},
     "output_type": "execute_result"
    }
   ],
   "source": [
    "df"
   ]
  },
  {
   "cell_type": "markdown",
   "id": "d8fb21e8",
   "metadata": {
    "papermill": {
     "duration": 0.009706,
     "end_time": "2024-07-24T19:04:05.751969",
     "exception": false,
     "start_time": "2024-07-24T19:04:05.742263",
     "status": "completed"
    },
    "tags": []
   },
   "source": [
    "# Train & Test Splitting the Data"
   ]
  },
  {
   "cell_type": "code",
   "execution_count": 7,
   "id": "dac3e193",
   "metadata": {
    "_kg_hide-output": true,
    "execution": {
     "iopub.execute_input": "2024-07-24T19:04:05.773498Z",
     "iopub.status.busy": "2024-07-24T19:04:05.773159Z",
     "iopub.status.idle": "2024-07-24T19:04:05.786251Z",
     "shell.execute_reply": "2024-07-24T19:04:05.785334Z"
    },
    "papermill": {
     "duration": 0.026241,
     "end_time": "2024-07-24T19:04:05.788261",
     "exception": false,
     "start_time": "2024-07-24T19:04:05.762020",
     "status": "completed"
    },
    "scrolled": true,
    "tags": []
   },
   "outputs": [
    {
     "data": {
      "text/plain": [
       "array([[5.1, 3.5, 1.4, 0.2],\n",
       "       [4.9, 3. , 1.4, 0.2],\n",
       "       [4.7, 3.2, 1.3, 0.2],\n",
       "       [4.6, 3.1, 1.5, 0.2],\n",
       "       [5. , 3.6, 1.4, 0.2],\n",
       "       [5.4, 3.9, 1.7, 0.4],\n",
       "       [4.6, 3.4, 1.4, 0.3],\n",
       "       [5. , 3.4, 1.5, 0.2],\n",
       "       [4.4, 2.9, 1.4, 0.2],\n",
       "       [4.9, 3.1, 1.5, 0.1],\n",
       "       [5.4, 3.7, 1.5, 0.2],\n",
       "       [4.8, 3.4, 1.6, 0.2],\n",
       "       [4.8, 3. , 1.4, 0.1],\n",
       "       [4.3, 3. , 1.1, 0.1],\n",
       "       [5.8, 4. , 1.2, 0.2],\n",
       "       [5.7, 4.4, 1.5, 0.4],\n",
       "       [5.4, 3.9, 1.3, 0.4],\n",
       "       [5.1, 3.5, 1.4, 0.3],\n",
       "       [5.7, 3.8, 1.7, 0.3],\n",
       "       [5.1, 3.8, 1.5, 0.3],\n",
       "       [5.4, 3.4, 1.7, 0.2],\n",
       "       [5.1, 3.7, 1.5, 0.4],\n",
       "       [4.6, 3.6, 1. , 0.2],\n",
       "       [5.1, 3.3, 1.7, 0.5],\n",
       "       [4.8, 3.4, 1.9, 0.2],\n",
       "       [5. , 3. , 1.6, 0.2],\n",
       "       [5. , 3.4, 1.6, 0.4],\n",
       "       [5.2, 3.5, 1.5, 0.2],\n",
       "       [5.2, 3.4, 1.4, 0.2],\n",
       "       [4.7, 3.2, 1.6, 0.2],\n",
       "       [4.8, 3.1, 1.6, 0.2],\n",
       "       [5.4, 3.4, 1.5, 0.4],\n",
       "       [5.2, 4.1, 1.5, 0.1],\n",
       "       [5.5, 4.2, 1.4, 0.2],\n",
       "       [4.9, 3.1, 1.5, 0.1],\n",
       "       [5. , 3.2, 1.2, 0.2],\n",
       "       [5.5, 3.5, 1.3, 0.2],\n",
       "       [4.9, 3.1, 1.5, 0.1],\n",
       "       [4.4, 3. , 1.3, 0.2],\n",
       "       [5.1, 3.4, 1.5, 0.2],\n",
       "       [5. , 3.5, 1.3, 0.3],\n",
       "       [4.5, 2.3, 1.3, 0.3],\n",
       "       [4.4, 3.2, 1.3, 0.2],\n",
       "       [5. , 3.5, 1.6, 0.6],\n",
       "       [5.1, 3.8, 1.9, 0.4],\n",
       "       [4.8, 3. , 1.4, 0.3],\n",
       "       [5.1, 3.8, 1.6, 0.2],\n",
       "       [4.6, 3.2, 1.4, 0.2],\n",
       "       [5.3, 3.7, 1.5, 0.2],\n",
       "       [5. , 3.3, 1.4, 0.2],\n",
       "       [7. , 3.2, 4.7, 1.4],\n",
       "       [6.4, 3.2, 4.5, 1.5],\n",
       "       [6.9, 3.1, 4.9, 1.5],\n",
       "       [5.5, 2.3, 4. , 1.3],\n",
       "       [6.5, 2.8, 4.6, 1.5],\n",
       "       [5.7, 2.8, 4.5, 1.3],\n",
       "       [6.3, 3.3, 4.7, 1.6],\n",
       "       [4.9, 2.4, 3.3, 1. ],\n",
       "       [6.6, 2.9, 4.6, 1.3],\n",
       "       [5.2, 2.7, 3.9, 1.4],\n",
       "       [5. , 2. , 3.5, 1. ],\n",
       "       [5.9, 3. , 4.2, 1.5],\n",
       "       [6. , 2.2, 4. , 1. ],\n",
       "       [6.1, 2.9, 4.7, 1.4],\n",
       "       [5.6, 2.9, 3.6, 1.3],\n",
       "       [6.7, 3.1, 4.4, 1.4],\n",
       "       [5.6, 3. , 4.5, 1.5],\n",
       "       [5.8, 2.7, 4.1, 1. ],\n",
       "       [6.2, 2.2, 4.5, 1.5],\n",
       "       [5.6, 2.5, 3.9, 1.1],\n",
       "       [5.9, 3.2, 4.8, 1.8],\n",
       "       [6.1, 2.8, 4. , 1.3],\n",
       "       [6.3, 2.5, 4.9, 1.5],\n",
       "       [6.1, 2.8, 4.7, 1.2],\n",
       "       [6.4, 2.9, 4.3, 1.3],\n",
       "       [6.6, 3. , 4.4, 1.4],\n",
       "       [6.8, 2.8, 4.8, 1.4],\n",
       "       [6.7, 3. , 5. , 1.7],\n",
       "       [6. , 2.9, 4.5, 1.5],\n",
       "       [5.7, 2.6, 3.5, 1. ],\n",
       "       [5.5, 2.4, 3.8, 1.1],\n",
       "       [5.5, 2.4, 3.7, 1. ],\n",
       "       [5.8, 2.7, 3.9, 1.2],\n",
       "       [6. , 2.7, 5.1, 1.6],\n",
       "       [5.4, 3. , 4.5, 1.5],\n",
       "       [6. , 3.4, 4.5, 1.6],\n",
       "       [6.7, 3.1, 4.7, 1.5],\n",
       "       [6.3, 2.3, 4.4, 1.3],\n",
       "       [5.6, 3. , 4.1, 1.3],\n",
       "       [5.5, 2.5, 4. , 1.3],\n",
       "       [5.5, 2.6, 4.4, 1.2],\n",
       "       [6.1, 3. , 4.6, 1.4],\n",
       "       [5.8, 2.6, 4. , 1.2],\n",
       "       [5. , 2.3, 3.3, 1. ],\n",
       "       [5.6, 2.7, 4.2, 1.3],\n",
       "       [5.7, 3. , 4.2, 1.2],\n",
       "       [5.7, 2.9, 4.2, 1.3],\n",
       "       [6.2, 2.9, 4.3, 1.3],\n",
       "       [5.1, 2.5, 3. , 1.1],\n",
       "       [5.7, 2.8, 4.1, 1.3],\n",
       "       [6.3, 3.3, 6. , 2.5],\n",
       "       [5.8, 2.7, 5.1, 1.9],\n",
       "       [7.1, 3. , 5.9, 2.1],\n",
       "       [6.3, 2.9, 5.6, 1.8],\n",
       "       [6.5, 3. , 5.8, 2.2],\n",
       "       [7.6, 3. , 6.6, 2.1],\n",
       "       [4.9, 2.5, 4.5, 1.7],\n",
       "       [7.3, 2.9, 6.3, 1.8],\n",
       "       [6.7, 2.5, 5.8, 1.8],\n",
       "       [7.2, 3.6, 6.1, 2.5],\n",
       "       [6.5, 3.2, 5.1, 2. ],\n",
       "       [6.4, 2.7, 5.3, 1.9],\n",
       "       [6.8, 3. , 5.5, 2.1],\n",
       "       [5.7, 2.5, 5. , 2. ],\n",
       "       [5.8, 2.8, 5.1, 2.4],\n",
       "       [6.4, 3.2, 5.3, 2.3],\n",
       "       [6.5, 3. , 5.5, 1.8],\n",
       "       [7.7, 3.8, 6.7, 2.2],\n",
       "       [7.7, 2.6, 6.9, 2.3],\n",
       "       [6. , 2.2, 5. , 1.5],\n",
       "       [6.9, 3.2, 5.7, 2.3],\n",
       "       [5.6, 2.8, 4.9, 2. ],\n",
       "       [7.7, 2.8, 6.7, 2. ],\n",
       "       [6.3, 2.7, 4.9, 1.8],\n",
       "       [6.7, 3.3, 5.7, 2.1],\n",
       "       [7.2, 3.2, 6. , 1.8],\n",
       "       [6.2, 2.8, 4.8, 1.8],\n",
       "       [6.1, 3. , 4.9, 1.8],\n",
       "       [6.4, 2.8, 5.6, 2.1],\n",
       "       [7.2, 3. , 5.8, 1.6],\n",
       "       [7.4, 2.8, 6.1, 1.9],\n",
       "       [7.9, 3.8, 6.4, 2. ],\n",
       "       [6.4, 2.8, 5.6, 2.2],\n",
       "       [6.3, 2.8, 5.1, 1.5],\n",
       "       [6.1, 2.6, 5.6, 1.4],\n",
       "       [7.7, 3. , 6.1, 2.3],\n",
       "       [6.3, 3.4, 5.6, 2.4],\n",
       "       [6.4, 3.1, 5.5, 1.8],\n",
       "       [6. , 3. , 4.8, 1.8],\n",
       "       [6.9, 3.1, 5.4, 2.1],\n",
       "       [6.7, 3.1, 5.6, 2.4],\n",
       "       [6.9, 3.1, 5.1, 2.3],\n",
       "       [5.8, 2.7, 5.1, 1.9],\n",
       "       [6.8, 3.2, 5.9, 2.3],\n",
       "       [6.7, 3.3, 5.7, 2.5],\n",
       "       [6.7, 3. , 5.2, 2.3],\n",
       "       [6.3, 2.5, 5. , 1.9],\n",
       "       [6.5, 3. , 5.2, 2. ],\n",
       "       [6.2, 3.4, 5.4, 2.3],\n",
       "       [5.9, 3. , 5.1, 1.8]])"
      ]
     },
     "execution_count": 7,
     "metadata": {},
     "output_type": "execute_result"
    }
   ],
   "source": [
    "x = df.iloc[:, 1:-1].values\n",
    "x"
   ]
  },
  {
   "cell_type": "code",
   "execution_count": 8,
   "id": "18542bb5",
   "metadata": {
    "execution": {
     "iopub.execute_input": "2024-07-24T19:04:05.809865Z",
     "iopub.status.busy": "2024-07-24T19:04:05.809594Z",
     "iopub.status.idle": "2024-07-24T19:04:05.816025Z",
     "shell.execute_reply": "2024-07-24T19:04:05.815165Z"
    },
    "papermill": {
     "duration": 0.019282,
     "end_time": "2024-07-24T19:04:05.817900",
     "exception": false,
     "start_time": "2024-07-24T19:04:05.798618",
     "status": "completed"
    },
    "tags": []
   },
   "outputs": [
    {
     "data": {
      "text/plain": [
       "array([0, 0, 0, 0, 0, 0, 0, 0, 0, 0, 0, 0, 0, 0, 0, 0, 0, 0, 0, 0, 0, 0,\n",
       "       0, 0, 0, 0, 0, 0, 0, 0, 0, 0, 0, 0, 0, 0, 0, 0, 0, 0, 0, 0, 0, 0,\n",
       "       0, 0, 0, 0, 0, 0, 1, 1, 1, 1, 1, 1, 1, 1, 1, 1, 1, 1, 1, 1, 1, 1,\n",
       "       1, 1, 1, 1, 1, 1, 1, 1, 1, 1, 1, 1, 1, 1, 1, 1, 1, 1, 1, 1, 1, 1,\n",
       "       1, 1, 1, 1, 1, 1, 1, 1, 1, 1, 1, 1, 2, 2, 2, 2, 2, 2, 2, 2, 2, 2,\n",
       "       2, 2, 2, 2, 2, 2, 2, 2, 2, 2, 2, 2, 2, 2, 2, 2, 2, 2, 2, 2, 2, 2,\n",
       "       2, 2, 2, 2, 2, 2, 2, 2, 2, 2, 2, 2, 2, 2, 2, 2, 2, 2])"
      ]
     },
     "execution_count": 8,
     "metadata": {},
     "output_type": "execute_result"
    }
   ],
   "source": [
    "y = df.iloc[:, -1].values\n",
    "y"
   ]
  },
  {
   "cell_type": "code",
   "execution_count": 9,
   "id": "6a48c864",
   "metadata": {
    "execution": {
     "iopub.execute_input": "2024-07-24T19:04:05.841021Z",
     "iopub.status.busy": "2024-07-24T19:04:05.840648Z",
     "iopub.status.idle": "2024-07-24T19:04:05.849001Z",
     "shell.execute_reply": "2024-07-24T19:04:05.848239Z"
    },
    "papermill": {
     "duration": 0.0222,
     "end_time": "2024-07-24T19:04:05.850875",
     "exception": false,
     "start_time": "2024-07-24T19:04:05.828675",
     "status": "completed"
    },
    "tags": []
   },
   "outputs": [],
   "source": [
    "x_train, x_test, y_train, y_test = train_test_split(x, y, test_size = 0.2, random_state = 1)"
   ]
  },
  {
   "cell_type": "markdown",
   "id": "fb38ff28",
   "metadata": {
    "papermill": {
     "duration": 0.010473,
     "end_time": "2024-07-24T19:04:05.872088",
     "exception": false,
     "start_time": "2024-07-24T19:04:05.861615",
     "status": "completed"
    },
    "tags": []
   },
   "source": [
    "# Convert the data into Tensors"
   ]
  },
  {
   "cell_type": "code",
   "execution_count": 10,
   "id": "ae857554",
   "metadata": {
    "execution": {
     "iopub.execute_input": "2024-07-24T19:04:05.895018Z",
     "iopub.status.busy": "2024-07-24T19:04:05.894641Z",
     "iopub.status.idle": "2024-07-24T19:04:05.924414Z",
     "shell.execute_reply": "2024-07-24T19:04:05.923595Z"
    },
    "papermill": {
     "duration": 0.044001,
     "end_time": "2024-07-24T19:04:05.926747",
     "exception": false,
     "start_time": "2024-07-24T19:04:05.882746",
     "status": "completed"
    },
    "tags": []
   },
   "outputs": [],
   "source": [
    "x_train = torch.FloatTensor(x_train)\n",
    "x_test = torch.FloatTensor(x_test)"
   ]
  },
  {
   "cell_type": "code",
   "execution_count": 11,
   "id": "a9ae2a0c",
   "metadata": {
    "execution": {
     "iopub.execute_input": "2024-07-24T19:04:05.949532Z",
     "iopub.status.busy": "2024-07-24T19:04:05.949147Z",
     "iopub.status.idle": "2024-07-24T19:04:05.953704Z",
     "shell.execute_reply": "2024-07-24T19:04:05.952865Z"
    },
    "papermill": {
     "duration": 0.018146,
     "end_time": "2024-07-24T19:04:05.955687",
     "exception": false,
     "start_time": "2024-07-24T19:04:05.937541",
     "status": "completed"
    },
    "tags": []
   },
   "outputs": [],
   "source": [
    "y_train = torch.LongTensor(y_train)\n",
    "y_test = torch.LongTensor(y_test)"
   ]
  },
  {
   "cell_type": "markdown",
   "id": "e517082c",
   "metadata": {
    "papermill": {
     "duration": 0.010207,
     "end_time": "2024-07-24T19:04:05.976787",
     "exception": false,
     "start_time": "2024-07-24T19:04:05.966580",
     "status": "completed"
    },
    "tags": []
   },
   "source": [
    "# Creating the Neural Network Model"
   ]
  },
  {
   "cell_type": "code",
   "execution_count": 12,
   "id": "dbe9db71",
   "metadata": {
    "execution": {
     "iopub.execute_input": "2024-07-24T19:04:05.999371Z",
     "iopub.status.busy": "2024-07-24T19:04:05.999000Z",
     "iopub.status.idle": "2024-07-24T19:04:06.005490Z",
     "shell.execute_reply": "2024-07-24T19:04:06.004636Z"
    },
    "papermill": {
     "duration": 0.020029,
     "end_time": "2024-07-24T19:04:06.007350",
     "exception": false,
     "start_time": "2024-07-24T19:04:05.987321",
     "status": "completed"
    },
    "tags": []
   },
   "outputs": [],
   "source": [
    "class Model(nn.Module):\n",
    "    \n",
    "    def __init__(self, input_neuron = 4, hiddenlayer1_neuron = 10, hiddenlayer2_neuron = 5, output_neuron = 3):\n",
    "        super().__init__()\n",
    "        self.fc1 = nn.Linear(input_neuron, hiddenlayer1_neuron)\n",
    "        self.fc2 = nn.Linear(hiddenlayer1_neuron, hiddenlayer2_neuron)\n",
    "        self.out = nn.Linear(hiddenlayer2_neuron, output_neuron)\n",
    "\n",
    "    def forward_pass(self, x):\n",
    "        x = f.relu(self.fc1(x))\n",
    "        x = f.relu(self.fc2(x))\n",
    "        x = self.out(x)\n",
    "\n",
    "        return x"
   ]
  },
  {
   "cell_type": "code",
   "execution_count": 13,
   "id": "03f2ebaf",
   "metadata": {
    "execution": {
     "iopub.execute_input": "2024-07-24T19:04:06.030137Z",
     "iopub.status.busy": "2024-07-24T19:04:06.029459Z",
     "iopub.status.idle": "2024-07-24T19:04:06.047796Z",
     "shell.execute_reply": "2024-07-24T19:04:06.046838Z"
    },
    "papermill": {
     "duration": 0.032171,
     "end_time": "2024-07-24T19:04:06.049989",
     "exception": false,
     "start_time": "2024-07-24T19:04:06.017818",
     "status": "completed"
    },
    "tags": []
   },
   "outputs": [],
   "source": [
    "model = Model()"
   ]
  },
  {
   "cell_type": "code",
   "execution_count": 14,
   "id": "2ca19c5e",
   "metadata": {
    "execution": {
     "iopub.execute_input": "2024-07-24T19:04:06.072768Z",
     "iopub.status.busy": "2024-07-24T19:04:06.072147Z",
     "iopub.status.idle": "2024-07-24T19:04:06.078018Z",
     "shell.execute_reply": "2024-07-24T19:04:06.077150Z"
    },
    "papermill": {
     "duration": 0.019313,
     "end_time": "2024-07-24T19:04:06.079965",
     "exception": false,
     "start_time": "2024-07-24T19:04:06.060652",
     "status": "completed"
    },
    "tags": []
   },
   "outputs": [
    {
     "data": {
      "text/plain": [
       "<bound method Module.parameters of Model(\n",
       "  (fc1): Linear(in_features=4, out_features=10, bias=True)\n",
       "  (fc2): Linear(in_features=10, out_features=5, bias=True)\n",
       "  (out): Linear(in_features=5, out_features=3, bias=True)\n",
       ")>"
      ]
     },
     "execution_count": 14,
     "metadata": {},
     "output_type": "execute_result"
    }
   ],
   "source": [
    "model.parameters"
   ]
  },
  {
   "cell_type": "code",
   "execution_count": 15,
   "id": "beba2a42",
   "metadata": {
    "execution": {
     "iopub.execute_input": "2024-07-24T19:04:06.103177Z",
     "iopub.status.busy": "2024-07-24T19:04:06.102568Z",
     "iopub.status.idle": "2024-07-24T19:04:07.483645Z",
     "shell.execute_reply": "2024-07-24T19:04:07.482663Z"
    },
    "papermill": {
     "duration": 1.395485,
     "end_time": "2024-07-24T19:04:07.486189",
     "exception": false,
     "start_time": "2024-07-24T19:04:06.090704",
     "status": "completed"
    },
    "tags": []
   },
   "outputs": [],
   "source": [
    "model_loss = nn.CrossEntropyLoss()\n",
    "optimizer = torch.optim.Adam(model.parameters(), lr = 0.01)"
   ]
  },
  {
   "cell_type": "markdown",
   "id": "05198205",
   "metadata": {
    "papermill": {
     "duration": 0.01062,
     "end_time": "2024-07-24T19:04:07.508377",
     "exception": false,
     "start_time": "2024-07-24T19:04:07.497757",
     "status": "completed"
    },
    "tags": []
   },
   "source": [
    "# Training the Model"
   ]
  },
  {
   "cell_type": "code",
   "execution_count": 16,
   "id": "b1fbb40a",
   "metadata": {
    "execution": {
     "iopub.execute_input": "2024-07-24T19:04:07.531910Z",
     "iopub.status.busy": "2024-07-24T19:04:07.531037Z",
     "iopub.status.idle": "2024-07-24T19:04:07.535620Z",
     "shell.execute_reply": "2024-07-24T19:04:07.534699Z"
    },
    "papermill": {
     "duration": 0.018425,
     "end_time": "2024-07-24T19:04:07.537617",
     "exception": false,
     "start_time": "2024-07-24T19:04:07.519192",
     "status": "completed"
    },
    "tags": []
   },
   "outputs": [],
   "source": [
    "epoch = 150\n",
    "losses = []"
   ]
  },
  {
   "cell_type": "code",
   "execution_count": 17,
   "id": "60f07a6b",
   "metadata": {
    "execution": {
     "iopub.execute_input": "2024-07-24T19:04:07.560624Z",
     "iopub.status.busy": "2024-07-24T19:04:07.560255Z",
     "iopub.status.idle": "2024-07-24T19:04:07.923622Z",
     "shell.execute_reply": "2024-07-24T19:04:07.922681Z"
    },
    "papermill": {
     "duration": 0.377357,
     "end_time": "2024-07-24T19:04:07.925839",
     "exception": false,
     "start_time": "2024-07-24T19:04:07.548482",
     "status": "completed"
    },
    "tags": []
   },
   "outputs": [
    {
     "name": "stdout",
     "output_type": "stream",
     "text": [
      "Epoch = 0, Loss = 1.2163530588150024\n",
      "Epoch = 5, Loss = 1.1158065795898438\n",
      "Epoch = 10, Loss = 1.046607494354248\n",
      "Epoch = 15, Loss = 0.9878188967704773\n",
      "Epoch = 20, Loss = 0.9170228838920593\n",
      "Epoch = 25, Loss = 0.8050060272216797\n",
      "Epoch = 30, Loss = 0.673439621925354\n",
      "Epoch = 35, Loss = 0.5333700180053711\n",
      "Epoch = 40, Loss = 0.41765838861465454\n",
      "Epoch = 45, Loss = 0.3387663960456848\n",
      "Epoch = 50, Loss = 0.28306758403778076\n",
      "Epoch = 55, Loss = 0.2385513037443161\n",
      "Epoch = 60, Loss = 0.2014683037996292\n",
      "Epoch = 65, Loss = 0.17027945816516876\n",
      "Epoch = 70, Loss = 0.14454269409179688\n",
      "Epoch = 75, Loss = 0.12398547679185867\n",
      "Epoch = 80, Loss = 0.10812225192785263\n",
      "Epoch = 85, Loss = 0.0962071567773819\n",
      "Epoch = 90, Loss = 0.08735902607440948\n",
      "Epoch = 95, Loss = 0.08082699775695801\n",
      "Epoch = 100, Loss = 0.07599630206823349\n",
      "Epoch = 105, Loss = 0.07238879054784775\n",
      "Epoch = 110, Loss = 0.06964981555938721\n",
      "Epoch = 115, Loss = 0.0675349086523056\n",
      "Epoch = 120, Loss = 0.06587547063827515\n",
      "Epoch = 125, Loss = 0.06454583257436752\n",
      "Epoch = 130, Loss = 0.06346053630113602\n",
      "Epoch = 135, Loss = 0.06255816668272018\n",
      "Epoch = 140, Loss = 0.06179475039243698\n",
      "Epoch = 145, Loss = 0.06113813444972038\n"
     ]
    }
   ],
   "source": [
    "for i in range (epoch):\n",
    "    y_pred = model.forward_pass(x_train)\n",
    "    loss = model_loss(y_pred, y_train)\n",
    "    losses.append(loss.detach().numpy())\n",
    "\n",
    "    if (i%5 == 0):\n",
    "        print(f\"Epoch = {i}, Loss = {loss}\")\n",
    "\n",
    "    optimizer.zero_grad()\n",
    "    loss.backward()\n",
    "    optimizer.step()"
   ]
  },
  {
   "cell_type": "code",
   "execution_count": 18,
   "id": "8235e5da",
   "metadata": {
    "execution": {
     "iopub.execute_input": "2024-07-24T19:04:07.948400Z",
     "iopub.status.busy": "2024-07-24T19:04:07.948105Z",
     "iopub.status.idle": "2024-07-24T19:04:08.289301Z",
     "shell.execute_reply": "2024-07-24T19:04:08.288401Z"
    },
    "papermill": {
     "duration": 0.35445,
     "end_time": "2024-07-24T19:04:08.291251",
     "exception": false,
     "start_time": "2024-07-24T19:04:07.936801",
     "status": "completed"
    },
    "tags": []
   },
   "outputs": [
    {
     "data": {
      "image/png": "[encoded data removed]",
      "text/plain": [
       "<Figure size 640x480 with 1 Axes>"
      ]
     },
     "metadata": {},
     "output_type": "display_data"
    }
   ],
   "source": [
    "plt.title(\"Model Training Loss Graph\")\n",
    "plt.plot(range(len(losses)), losses, color = 'red')\n",
    "plt.xlabel(\"Epochs\")\n",
    "plt.ylabel(\"Loss\")\n",
    "plt.grid()"
   ]
  },
  {
   "cell_type": "markdown",
   "id": "7ddd7c12",
   "metadata": {
    "papermill": {
     "duration": 0.011114,
     "end_time": "2024-07-24T19:04:08.313745",
     "exception": false,
     "start_time": "2024-07-24T19:04:08.302631",
     "status": "completed"
    },
    "tags": []
   },
   "source": [
    "# Testing the Model"
   ]
  },
  {
   "cell_type": "code",
   "execution_count": 19,
   "id": "eb3bbf65",
   "metadata": {
    "execution": {
     "iopub.execute_input": "2024-07-24T19:04:08.338744Z",
     "iopub.status.busy": "2024-07-24T19:04:08.338385Z",
     "iopub.status.idle": "2024-07-24T19:04:08.342817Z",
     "shell.execute_reply": "2024-07-24T19:04:08.341877Z"
    },
    "papermill": {
     "duration": 0.018889,
     "end_time": "2024-07-24T19:04:08.344741",
     "exception": false,
     "start_time": "2024-07-24T19:04:08.325852",
     "status": "completed"
    },
    "tags": []
   },
   "outputs": [],
   "source": [
    "classes = ['Setosa', 'Versicolor', 'Verginica']"
   ]
  },
  {
   "cell_type": "code",
   "execution_count": 20,
   "id": "2d8a6f6b",
   "metadata": {
    "execution": {
     "iopub.execute_input": "2024-07-24T19:04:08.369519Z",
     "iopub.status.busy": "2024-07-24T19:04:08.369154Z",
     "iopub.status.idle": "2024-07-24T19:04:08.381003Z",
     "shell.execute_reply": "2024-07-24T19:04:08.379887Z"
    },
    "papermill": {
     "duration": 0.026212,
     "end_time": "2024-07-24T19:04:08.382942",
     "exception": false,
     "start_time": "2024-07-24T19:04:08.356730",
     "status": "completed"
    },
    "tags": []
   },
   "outputs": [
    {
     "name": "stdout",
     "output_type": "stream",
     "text": [
      "Loss = 0.032107096165418625\n",
      "\n",
      "Correct Classification = 30\t Misclassification = 0\n"
     ]
    }
   ],
   "source": [
    "correct = 0\n",
    "val_loss = []\n",
    "\n",
    "with torch.no_grad():\n",
    "    y_pred = model.forward_pass(x_test)\n",
    "    loss = model_loss(y_pred, y_test)\n",
    "    val_loss.append(loss.detach().numpy())\n",
    "\n",
    "    for i in range (len(y_test)):\n",
    "        if y_pred[i].argmax() == y_test[i]:\n",
    "            correct += 1\n",
    "\n",
    "print(f'Loss = {loss}')\n",
    "print(f'\\nCorrect Classification = {correct}\\t Misclassification = {len(y_test)-correct}')"
   ]
  },
  {
   "cell_type": "code",
   "execution_count": 21,
   "id": "ee363463",
   "metadata": {
    "execution": {
     "iopub.execute_input": "2024-07-24T19:04:08.406949Z",
     "iopub.status.busy": "2024-07-24T19:04:08.406663Z",
     "iopub.status.idle": "2024-07-24T19:04:08.429552Z",
     "shell.execute_reply": "2024-07-24T19:04:08.428339Z"
    },
    "papermill": {
     "duration": 0.036805,
     "end_time": "2024-07-24T19:04:08.431502",
     "exception": false,
     "start_time": "2024-07-24T19:04:08.394697",
     "status": "completed"
    },
    "tags": []
   },
   "outputs": [
    {
     "name": "stdout",
     "output_type": "stream",
     "text": [
      "y_pred = tensor([ 6.0790, -4.6979, -3.0506])\t Actual Class = 0 (Setosa)\t Predicted Class = 0 (Setosa)\n",
      "y_pred = tensor([-3.0444,  2.8051, -1.2754])\t Actual Class = 1 (Versicolor)\t Predicted Class = 1 (Versicolor)\n",
      "y_pred = tensor([-5.9144,  4.6855, -1.2244])\t Actual Class = 1 (Versicolor)\t Predicted Class = 1 (Versicolor)\n",
      "y_pred = tensor([ 5.5426, -4.1904, -2.8761])\t Actual Class = 0 (Setosa)\t Predicted Class = 0 (Setosa)\n",
      "y_pred = tensor([-9.5569,  1.3733,  3.4754])\t Actual Class = 2 (Verginica)\t Predicted Class = 2 (Verginica)\n",
      "y_pred = tensor([-6.4626,  3.6487, -0.0167])\t Actual Class = 1 (Versicolor)\t Predicted Class = 1 (Versicolor)\n",
      "y_pred = tensor([-8.7665,  0.3068,  4.1148])\t Actual Class = 2 (Verginica)\t Predicted Class = 2 (Verginica)\n",
      "y_pred = tensor([ 4.6337, -3.4219, -2.6770])\t Actual Class = 0 (Setosa)\t Predicted Class = 0 (Setosa)\n",
      "y_pred = tensor([ 4.8056, -3.4706, -2.6124])\t Actual Class = 0 (Setosa)\t Predicted Class = 0 (Setosa)\n",
      "y_pred = tensor([-9.5722, -1.0226,  5.7091])\t Actual Class = 2 (Verginica)\t Predicted Class = 2 (Verginica)\n",
      "y_pred = tensor([-5.5348,  3.8249, -0.5935])\t Actual Class = 1 (Versicolor)\t Predicted Class = 1 (Versicolor)\n",
      "y_pred = tensor([ 5.1952, -3.9154, -2.8198])\t Actual Class = 0 (Setosa)\t Predicted Class = 0 (Setosa)\n",
      "y_pred = tensor([-9.6375, -0.7148,  5.4520])\t Actual Class = 2 (Verginica)\t Predicted Class = 2 (Verginica)\n",
      "y_pred = tensor([-6.0494,  4.5636, -1.0510])\t Actual Class = 1 (Versicolor)\t Predicted Class = 1 (Versicolor)\n",
      "y_pred = tensor([-6.2695,  3.2911,  0.2296])\t Actual Class = 1 (Versicolor)\t Predicted Class = 1 (Versicolor)\n",
      "y_pred = tensor([ 4.8141, -3.4326, -2.5664])\t Actual Class = 0 (Setosa)\t Predicted Class = 0 (Setosa)\n",
      "y_pred = tensor([-5.1732,  4.2677, -1.1660])\t Actual Class = 1 (Versicolor)\t Predicted Class = 1 (Versicolor)\n",
      "y_pred = tensor([-6.1455,  2.7887,  0.6414])\t Actual Class = 1 (Versicolor)\t Predicted Class = 1 (Versicolor)\n",
      "y_pred = tensor([ 4.8418, -3.6024, -2.7274])\t Actual Class = 0 (Setosa)\t Predicted Class = 0 (Setosa)\n",
      "y_pred = tensor([ 5.2110, -3.8367, -2.7259])\t Actual Class = 0 (Setosa)\t Predicted Class = 0 (Setosa)\n",
      "y_pred = tensor([-5.6971,  3.3777, -0.1056])\t Actual Class = 1 (Versicolor)\t Predicted Class = 1 (Versicolor)\n",
      "y_pred = tensor([-6.1266,  2.4412,  0.9559])\t Actual Class = 1 (Versicolor)\t Predicted Class = 1 (Versicolor)\n",
      "y_pred = tensor([-7.4160,  2.5787,  1.4021])\t Actual Class = 1 (Versicolor)\t Predicted Class = 1 (Versicolor)\n",
      "y_pred = tensor([ 5.2372, -3.8697, -2.7431])\t Actual Class = 0 (Setosa)\t Predicted Class = 0 (Setosa)\n",
      "y_pred = tensor([-8.9891,  0.8695,  3.6910])\t Actual Class = 2 (Verginica)\t Predicted Class = 2 (Verginica)\n",
      "y_pred = tensor([-5.3159,  4.3481, -1.1772])\t Actual Class = 1 (Versicolor)\t Predicted Class = 1 (Versicolor)\n",
      "y_pred = tensor([ 5.8622, -4.4942, -2.9816])\t Actual Class = 0 (Setosa)\t Predicted Class = 0 (Setosa)\n",
      "y_pred = tensor([ 5.3790, -4.0168, -2.8029])\t Actual Class = 0 (Setosa)\t Predicted Class = 0 (Setosa)\n",
      "y_pred = tensor([-6.0279,  4.0442, -0.5778])\t Actual Class = 1 (Versicolor)\t Predicted Class = 1 (Versicolor)\n",
      "y_pred = tensor([-8.2311,  0.0685,  4.0981])\t Actual Class = 2 (Verginica)\t Predicted Class = 2 (Verginica)\n"
     ]
    }
   ],
   "source": [
    "for i in range (len(y_test)):\n",
    "        print(f'y_pred = {y_pred[i]}\\t Actual Class = {y_test[i]} ({classes[y_test[i]]})\\t Predicted Class = {y_pred[i].argmax()} ({classes[y_pred[i].argmax()]})')"
   ]
  },
  {
   "cell_type": "markdown",
   "id": "95cbc5ad",
   "metadata": {
    "papermill": {
     "duration": 0.010923,
     "end_time": "2024-07-24T19:04:08.453667",
     "exception": false,
     "start_time": "2024-07-24T19:04:08.442744",
     "status": "completed"
    },
    "tags": []
   },
   "source": [
    "# Predict New Data point"
   ]
  },
  {
   "cell_type": "code",
   "execution_count": 22,
   "id": "c44d5fca",
   "metadata": {
    "execution": {
     "iopub.execute_input": "2024-07-24T19:04:08.477534Z",
     "iopub.status.busy": "2024-07-24T19:04:08.477174Z",
     "iopub.status.idle": "2024-07-24T19:04:08.483927Z",
     "shell.execute_reply": "2024-07-24T19:04:08.483106Z"
    },
    "papermill": {
     "duration": 0.020755,
     "end_time": "2024-07-24T19:04:08.485782",
     "exception": false,
     "start_time": "2024-07-24T19:04:08.465027",
     "status": "completed"
    },
    "tags": []
   },
   "outputs": [
    {
     "data": {
      "text/plain": [
       "tensor([4.7000, 2.5000, 2.3000, 6.9000])"
      ]
     },
     "execution_count": 22,
     "metadata": {},
     "output_type": "execute_result"
    }
   ],
   "source": [
    "new = torch.tensor([4.7, 2.5, 2.3, 6.9])\n",
    "new"
   ]
  },
  {
   "cell_type": "code",
   "execution_count": 23,
   "id": "45ffc6f2",
   "metadata": {
    "execution": {
     "iopub.execute_input": "2024-07-24T19:04:08.509355Z",
     "iopub.status.busy": "2024-07-24T19:04:08.509060Z",
     "iopub.status.idle": "2024-07-24T19:04:08.516485Z",
     "shell.execute_reply": "2024-07-24T19:04:08.515441Z"
    },
    "papermill": {
     "duration": 0.021408,
     "end_time": "2024-07-24T19:04:08.518376",
     "exception": false,
     "start_time": "2024-07-24T19:04:08.496968",
     "status": "completed"
    },
    "tags": []
   },
   "outputs": [
    {
     "name": "stdout",
     "output_type": "stream",
     "text": [
      "tensor([-14.3608, -15.5591,  21.3513])\t Predicted Class = Verginica\n"
     ]
    }
   ],
   "source": [
    "with torch.no_grad():\n",
    "    pred = model.forward_pass(new)\n",
    "\n",
    "print(f'{pred}\\t Predicted Class = {classes[pred.argmax()]}')"
   ]
  },
  {
   "cell_type": "markdown",
   "id": "8f5203bf",
   "metadata": {
    "papermill": {
     "duration": 0.011311,
     "end_time": "2024-07-24T19:04:08.540973",
     "exception": false,
     "start_time": "2024-07-24T19:04:08.529662",
     "status": "completed"
    },
    "tags": []
   },
   "source": [
    "# Save the Model"
   ]
  },
  {
   "cell_type": "code",
   "execution_count": 24,
   "id": "f0aefb97",
   "metadata": {
    "execution": {
     "iopub.execute_input": "2024-07-24T19:04:08.565104Z",
     "iopub.status.busy": "2024-07-24T19:04:08.564797Z",
     "iopub.status.idle": "2024-07-24T19:04:08.571332Z",
     "shell.execute_reply": "2024-07-24T19:04:08.570469Z"
    },
    "papermill": {
     "duration": 0.020719,
     "end_time": "2024-07-24T19:04:08.573267",
     "exception": false,
     "start_time": "2024-07-24T19:04:08.552548",
     "status": "completed"
    },
    "tags": []
   },
   "outputs": [],
   "source": [
    "torch.save(model.state_dict(), 'Iris_Classification_PyTorch.pt')"
   ]
  },
  {
   "cell_type": "code",
   "execution_count": 25,
   "id": "dd0d7422",
   "metadata": {
    "execution": {
     "iopub.execute_input": "2024-07-24T19:04:08.599958Z",
     "iopub.status.busy": "2024-07-24T19:04:08.599619Z",
     "iopub.status.idle": "2024-07-24T19:04:08.608065Z",
     "shell.execute_reply": "2024-07-24T19:04:08.607173Z"
    },
    "papermill": {
     "duration": 0.025283,
     "end_time": "2024-07-24T19:04:08.610045",
     "exception": false,
     "start_time": "2024-07-24T19:04:08.584762",
     "status": "completed"
    },
    "tags": []
   },
   "outputs": [
    {
     "data": {
      "text/plain": [
       "<All keys matched successfully>"
      ]
     },
     "execution_count": 25,
     "metadata": {},
     "output_type": "execute_result"
    }
   ],
   "source": [
    "new_model = Model()\n",
    "new_model.load_state_dict(torch.load('Iris_Classification_PyTorch.pt'))"
   ]
  },
  {
   "cell_type": "code",
   "execution_count": 26,
   "id": "30f0f7f6",
   "metadata": {
    "execution": {
     "iopub.execute_input": "2024-07-24T19:04:08.635953Z",
     "iopub.status.busy": "2024-07-24T19:04:08.635645Z",
     "iopub.status.idle": "2024-07-24T19:04:08.641101Z",
     "shell.execute_reply": "2024-07-24T19:04:08.640245Z"
    },
    "papermill": {
     "duration": 0.021204,
     "end_time": "2024-07-24T19:04:08.642961",
     "exception": false,
     "start_time": "2024-07-24T19:04:08.621757",
     "status": "completed"
    },
    "tags": []
   },
   "outputs": [
    {
     "data": {
      "text/plain": [
       "<bound method Module.parameters of Model(\n",
       "  (fc1): Linear(in_features=4, out_features=10, bias=True)\n",
       "  (fc2): Linear(in_features=10, out_features=5, bias=True)\n",
       "  (out): Linear(in_features=5, out_features=3, bias=True)\n",
       ")>"
      ]
     },
     "execution_count": 26,
     "metadata": {},
     "output_type": "execute_result"
    }
   ],
   "source": [
    "new_model.parameters"
   ]
  },
  {
   "cell_type": "markdown",
   "id": "ec3e37e0",
   "metadata": {
    "papermill": {
     "duration": 0.011665,
     "end_time": "2024-07-24T19:04:08.666505",
     "exception": false,
     "start_time": "2024-07-24T19:04:08.654840",
     "status": "completed"
    },
    "tags": []
   },
   "source": [
    "## Checking whether it is properly working"
   ]
  },
  {
   "cell_type": "code",
   "execution_count": 27,
   "id": "3a82bd07",
   "metadata": {
    "execution": {
     "iopub.execute_input": "2024-07-24T19:04:08.692003Z",
     "iopub.status.busy": "2024-07-24T19:04:08.691170Z",
     "iopub.status.idle": "2024-07-24T19:04:08.701781Z",
     "shell.execute_reply": "2024-07-24T19:04:08.698794Z"
    },
    "papermill": {
     "duration": 0.025654,
     "end_time": "2024-07-24T19:04:08.703855",
     "exception": false,
     "start_time": "2024-07-24T19:04:08.678201",
     "status": "completed"
    },
    "tags": []
   },
   "outputs": [
    {
     "name": "stdout",
     "output_type": "stream",
     "text": [
      "tensor([-14.3608, -15.5591,  21.3513])\t Predicted Class = Verginica\n"
     ]
    }
   ],
   "source": [
    "with torch.no_grad():\n",
    "    pred = new_model.forward_pass(new)\n",
    "\n",
    "print(f'{pred}\\t Predicted Class = {classes[pred.argmax()]}')"
   ]
  }
 ],
 "metadata": {
  "kaggle": {
   "accelerator": "gpu",
   "dataSources": [
    {
     "datasetId": 4247,
     "sourceId": 6570,
     "sourceType": "datasetVersion"
    }
   ],
   "isGpuEnabled": true,
   "isInternetEnabled": true,
   "language": "python",
   "sourceType": "notebook"
  },
  "kernelspec": {
   "display_name": "Python 3",
   "language": "python",
   "name": "python3"
  },
  "language_info": {
   "codemirror_mode": {
    "name": "ipython",
    "version": 3
   },
   "file_extension": ".py",
   "mimetype": "text/x-python",
   "name": "python",
   "nbconvert_exporter": "python",
   "pygments_lexer": "ipython3",
   "version": "3.10.13"
  },
  "papermill": {
   "default_parameters": {},
   "duration": 15.265101,
   "end_time": "2024-07-24T19:04:11.103780",
   "environment_variables": {},
   "exception": null,
   "input_path": "__notebook__.ipynb",
   "output_path": "__notebook__.ipynb",
   "parameters": {},
   "start_time": "2024-07-24T19:03:55.838679",
   "version": "2.5.0"
  }
 },
 "nbformat": 4,
 "nbformat_minor": 5
}
